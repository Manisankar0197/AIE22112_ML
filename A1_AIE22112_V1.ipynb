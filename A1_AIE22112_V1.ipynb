{
 "cells": [
  {
   "cell_type": "code",
   "execution_count": 1,
   "metadata": {},
   "outputs": [
    {
     "name": "stdout",
     "output_type": "stream",
     "text": [
      "[[29 18]\n",
      " [10  8]]\n"
     ]
    }
   ],
   "source": [
    "# matrix multiplication.\n",
    "\n",
    "import numpy as np\n",
    "\n",
    "a = np.array([[4, 2, 3], [4, 0, 2]])\n",
    "b = np.array([[2, 2], [9, 5],[1,0]])\n",
    "def mult(a,b):\n",
    "    first=a.shape\n",
    "    second=b.shape\n",
    "    \n",
    "    if len(first)==len(second) and first[1] == second[0]: # check the possibilty\n",
    "        return np.dot(a, b) #dot product of the matrices\n",
    "    else:\n",
    "        print(\"Error! Please enter the correct dimensions of the matrix\")\n",
    "print(mult(a,b))"
   ]
  },
  {
   "cell_type": "code",
   "execution_count": 2,
   "metadata": {},
   "outputs": [
    {
     "name": "stdout",
     "output_type": "stream",
     "text": [
      "The no of vowels are :  4\n",
      "The no of consonants are :  7\n"
     ]
    }
   ],
   "source": [
    "#counting vowels and consonants in a string.\n",
    "input_string=\"Good Morning!\"\n",
    "def count(input_string):\n",
    "    # Convertion of input string to lowercase\n",
    "    input_string=input_string.lower()\n",
    "   # initialising count for vowels and consonants \n",
    "    vowels=0\n",
    "    consonants=0\n",
    "    for i in range(len(input_string)):\n",
    "        # Check if the character is a letter\n",
    "        if input_string[i].isalpha():\n",
    "            # Check if the character is a vowel\n",
    "            if input_string[i] in ['a','i','e','o','u']:\n",
    "                vowels+=1\n",
    "            else:\n",
    "                consonants+=1\n",
    "    return (vowels,consonants)\n",
    "value=count(input_string)\n",
    "print(\"The no of vowels are : \",value[0])\n",
    "print(\"The no of consonants are : \",value[1])"
   ]
  },
  {
   "cell_type": "code",
   "execution_count": 3,
   "metadata": {},
   "outputs": [
    {
     "name": "stdout",
     "output_type": "stream",
     "text": [
      "[4, 5, 6, 7]\n"
     ]
    }
   ],
   "source": [
    "# intersection of two lists\n",
    "\n",
    "list_1=[1,3,4,5,6,7]\n",
    "list_2=[2,4,5,6,7,8,0]\n",
    "\n",
    "def intersection(list_1,list_2):\n",
    "    final_list=[] #empty list\n",
    "    for element in list_1:\n",
    "        if element in list_2: # check if the element is present in list2\n",
    "            final_list.append(element)\n",
    "    return final_list\n",
    "\n",
    "print(intersection(list_1,list_2))\n"
   ]
  },
  {
   "cell_type": "code",
   "execution_count": 4,
   "metadata": {},
   "outputs": [
    {
     "name": "stdout",
     "output_type": "stream",
     "text": [
      "Original Matrix\n",
      "[[1 2 3]\n",
      " [4 5 6]]\n",
      "Transpose\n",
      "[[1 4]\n",
      " [2 5]\n",
      " [3 6]]\n"
     ]
    }
   ],
   "source": [
    "# creating transpose\n",
    "import numpy as np\n",
    "\n",
    "a = np.array([[1, 2, 3], [4, 5, 6]])\n",
    "\n",
    "def trans(a):\n",
    "    transpose = [] # empty list\n",
    "    sha = a.shape\n",
    "    first = sha[0]\n",
    "    sec = sha[1]\n",
    "    for i in range(sec):  # Loop over columns instead of rows\n",
    "        row = []  # Create a new row for the transpose\n",
    "        for j in range(first):\n",
    "            row.append(a[j][i])\n",
    "        transpose.append(row)\n",
    "    return np.array(transpose)\n",
    "\n",
    "print(\"Original Matrix\")\n",
    "print(a)\n",
    "print(\"Transpose\")\n",
    "print(trans(a))\n"
   ]
  }
 ],
 "metadata": {
  "kernelspec": {
   "display_name": "Python 3",
   "language": "python",
   "name": "python3"
  },
  "language_info": {
   "codemirror_mode": {
    "name": "ipython",
    "version": 3
   },
   "file_extension": ".py",
   "mimetype": "text/x-python",
   "name": "python",
   "nbconvert_exporter": "python",
   "pygments_lexer": "ipython3",
   "version": "3.12.0"
  }
 },
 "nbformat": 4,
 "nbformat_minor": 2
}
