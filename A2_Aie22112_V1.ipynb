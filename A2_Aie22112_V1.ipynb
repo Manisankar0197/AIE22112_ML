{
 "cells": [
  {
   "cell_type": "code",
   "execution_count": 2,
   "metadata": {},
   "outputs": [
    {
     "name": "stdout",
     "output_type": "stream",
     "text": [
      "Euclidean distance: 6.557438524302\n",
      "Manhattan distance: 11.0\n"
     ]
    }
   ],
   "source": [
    "import math\n",
    "\n",
    "def euclidean_distance(a, b):\n",
    "    distance = 0\n",
    "    for i in range(len(a)):\n",
    "        distance += (a[i] - b[i]) ** 2\n",
    "    return math.sqrt(distance)\n",
    "\n",
    "def manhattan_distance(a, b):\n",
    "    distance = 0\n",
    "    for i in range(len(a)):\n",
    "        distance += abs(a[i] - b[i])\n",
    "    return distance\n",
    "\n",
    "# Main input part\n",
    "n = int(input(\"Enter the dimensions of the vectors: \"))\n",
    "\n",
    "a = [0] * n\n",
    "b = [0] * n\n",
    "\n",
    "for i in range(n):\n",
    "    a[i] = float(input(f\"Enter element a[{i}]: \"))\n",
    "\n",
    "for i in range(n):\n",
    "    b[i] = float(input(f\"Enter element b[{i}]: \"))\n",
    "\n",
    "# Calculate distances\n",
    "euclidean_result = euclidean_distance(a, b)\n",
    "manhattan_result = manhattan_distance(a, b)\n",
    "\n",
    "# Print results\n",
    "print(\"Euclidean distance:\", euclidean_result)\n",
    "print(\"Manhattan distance:\", manhattan_result)"
   ]
  },
  {
   "cell_type": "code",
   "execution_count": 3,
   "metadata": {},
   "outputs": [
    {
     "name": "stdout",
     "output_type": "stream",
     "text": [
      "The first 3 neighboring distances:\n",
      "0.7071067811865476\n",
      "0.7071067811865476\n",
      "2.1213203435596424\n",
      "The predicted class for the test point is: A\n"
     ]
    }
   ],
   "source": [
    "\n",
    "import numpy as np\n",
    "import math\n",
    "\n",
    "def euclidean_distance(a, b):\n",
    "    # Calculate Euclidean distance between vectors a and b\n",
    "    c = sum((ai - bi) ** 2 for ai, bi in zip(a, b))\n",
    "    return math.sqrt(c)\n",
    "\n",
    "def k_nearest_neighbors(Numbers_train, y_train, x_test, k):\n",
    "    # Calculate distances between x_test and each training instance\n",
    "    distances = [(euclidean_distance(x_test, Numbers_train[i]), y_train[i]) for i in range(len(Numbers_train))]\n",
    "    \n",
    "    # Sort distances in ascending order based on distance values\n",
    "    distances.sort(key=lambda x: x[0])\n",
    "\n",
    "    # Print the first k neighboring distances\n",
    "    print(f\"The first {k} neighboring distances:\")\n",
    "    for i in range(k):\n",
    "        print(distances[i][0])\n",
    "\n",
    "    # Count occurrences of each label among the k nearest neighbors\n",
    "    class_counts = {}\n",
    "    for neighbor in distances[:k]:\n",
    "        label = neighbor[1]\n",
    "        class_counts[label] = class_counts.get(label, 0) + 1\n",
    "\n",
    "    # Determine the predicted class based on majority vote\n",
    "    predicted_class = max(class_counts, key=class_counts.get)\n",
    "    return predicted_class\n",
    "\n",
    "# Main input\n",
    "Numbers_train = np.array([[1, 2], [2, 3], [3, 4], [4, 5]])\n",
    "y_train = np.array(['A', 'A', 'B', 'B'])\n",
    "test = np.array([2.5, 3.5])\n",
    "k_value = 3\n",
    "\n",
    "# Call k_nearest_neighbors function and print the result\n",
    "predicted_class = k_nearest_neighbors(Numbers_train, y_train, test, k_value)\n",
    "print(\"The predicted class for the test point is:\", predicted_class)\n"
   ]
  },
  {
   "cell_type": "code",
   "execution_count": 1,
   "metadata": {},
   "outputs": [
    {
     "name": "stdout",
     "output_type": "stream",
     "text": [
      "The result using label encoding: [0, 1, 0, 2, 1, 2, 0]\n"
     ]
    }
   ],
   "source": [
    "def label_encoding(a):\n",
    "    b = [0] * len(a)  \n",
    "    unique_set = []   \n",
    "\n",
    "    for i in range(len(a)):\n",
    "        if a[i] not in unique_set:\n",
    "            unique_set.append(a[i])\n",
    "\n",
    "    \n",
    "    for i in range(len(a)):\n",
    "        for j in unique_set:\n",
    "            if a[i] == j:\n",
    "                b[i] = unique_set.index(j)\n",
    "\n",
    "    return b\n",
    "\n",
    "# Main part \n",
    "a = [\"car\", \"bike\", \"car\", \"bus\", \"bike\", \"bus\", \"car\"]\n",
    "b = label_encoding(a)\n",
    "\n",
    "\n",
    "print(\"The result using label encoding:\", b)\n"
   ]
  },
  {
   "cell_type": "code",
   "execution_count": 3,
   "metadata": {},
   "outputs": [
    {
     "name": "stdout",
     "output_type": "stream",
     "text": [
      "The result using one-hot encoding:\n",
      "[1, 0, 0]\n",
      "[1, 0, 0]\n",
      "[0, 1, 0]\n",
      "[0, 0, 1]\n",
      "[1, 0, 0]\n",
      "[0, 0, 1]\n",
      "[1, 0, 0]\n"
     ]
    }
   ],
   "source": [
    "def one_hot_encoding(a):\n",
    "    b = []\n",
    "    unique_set = []\n",
    "\n",
    "    for i in range(len(a)):\n",
    "        if a[i] not in unique_set:\n",
    "            unique_set.append(a[i])\n",
    "\n",
    "    for i in range(len(a)):\n",
    "        category_list = [0] * len(unique_set)\n",
    "\n",
    "        for j in range(len(unique_set)):\n",
    "            if a[i] == unique_set[j]:\n",
    "                category_list[j] = 1\n",
    "\n",
    "        b.append(category_list)\n",
    "\n",
    "    return b\n",
    "\n",
    "# Main part for input\n",
    "a = [\"bike\", \"bike\", \"car\", \"bus\", \"bike\", \"bus\", \"bike\"]\n",
    "b = one_hot_encoding(a)\n",
    "\n",
    "# Print the result using one-hot encoding\n",
    "print(\"The result using one-hot encoding:\")\n",
    "for vector in b:\n",
    "    print(vector)\n"
   ]
  }
 ],
 "metadata": {
  "kernelspec": {
   "display_name": "Python 3",
   "language": "python",
   "name": "python3"
  },
  "language_info": {
   "codemirror_mode": {
    "name": "ipython",
    "version": 3
   },
   "file_extension": ".py",
   "mimetype": "text/x-python",
   "name": "python",
   "nbconvert_exporter": "python",
   "pygments_lexer": "ipython3",
   "version": "3.10.0"
  }
 },
 "nbformat": 4,
 "nbformat_minor": 2
}
